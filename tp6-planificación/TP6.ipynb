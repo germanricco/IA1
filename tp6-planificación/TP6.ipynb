{
 "cells": [
  {
   "cell_type": "markdown",
   "metadata": {
    "id": "Ds5tHU-5hZKV"
   },
   "source": [
    "# Temas Tratados en el Trabajo Práctico 6\n",
    "\n",
    "* Modelado de problemas en espacios de estado.\n",
    "\n",
    "* Algoritmos de planificación hacia adelante y hacia atrás.\n",
    "\n",
    "* Representación y solución de problemas descritos en lenguaje STRIPS.\n",
    "\n",
    "* Algoritmo GRAPHPLAN.\n",
    "\n",
    "* Planificación con restricciones de tiempo y recursos.\n",
    "\n",
    "* Caminos críticos y tiempos de relajación.\n",
    "\n",
    "## Ejercicios Teóricos\n",
    "\n",
    "1. ¿En qué tipo de algoritmos se basa un planificador para encontrar el mejor camino a un estado solución?"
   ]
  },
  {
   "cell_type": "markdown",
   "metadata": {},
   "source": [
    "### Algoritmos\n",
    "\n",
    "Un planificador, para encontrar el mejor camino a un estado solución, se basa en algoritmos de busqueda en grafos, pudiendo estos ser:\n",
    "\n",
    "a) No informados: No tienen conocimientos del problema, solo exploran.\n",
    "\n",
    "b) Informados: Aprovechan información extra para guiar la exploración hacia el objetivo.\n",
    "\n",
    "c) Especializados en planificación: Se basan en los anteriores, pero cadaptados al lenguaje de planificación (Ejemplo: GraphPlan). \n",
    "\n",
    "---"
   ]
  },
  {
   "cell_type": "markdown",
   "metadata": {},
   "source": [
    "\n",
    "2. ¿Qué tres elementos se encuentran dentro de una acción formulada en lenguaje STRIPS? Describa brevemente qué función cumple cada uno."
   ]
  },
  {
   "cell_type": "markdown",
   "metadata": {},
   "source": [
    "### Elementos de una acción\n",
    "\n",
    "Una acción formulada en lenguaje STRIPS esta compuesta por tres elementos, siendo:\n",
    "\n",
    "a) Nombre y parámetros: Identifican la accion y los objetos que intervienen.\n",
    "\n",
    "b) Precondiciones: describen lo que debe cumplirse en el estado actual para que la acción sea ejecutable.\n",
    "\n",
    "c) Efectos: indican los cambios en el estado del mundo una vez que la acción se ejecuta.\n",
    "\n",
    "---"
   ]
  },
  {
   "cell_type": "markdown",
   "metadata": {},
   "source": [
    "3. Describa las ventajas y desventajas de desarrollar un algoritmo de planificación hacia adelante y hacia atrás en el espacio de estados.\n"
   ]
  },
  {
   "cell_type": "markdown",
   "metadata": {},
   "source": [
    "### Ventajas y Desventajas\n",
    "\n",
    "**Planificación hacia adelante**\n",
    "\n",
    "Ventajas:\n",
    "\n",
    "1. Implementación simple: Directo, ya que se empieza con lo que se sabe seguro.\n",
    "\n",
    "2. Es consistente. Cada acción aplicada genera estados alcanzables en el mundo real. No se crean “estados imposibles”.\n",
    "\n",
    "3. Muy útil cuando el espacio de estados no es tan grande o cuando es fácil verificar si se llegó a la meta.\n",
    "\n",
    "Desventajas:\n",
    "\n",
    "1. El espacio de búsqueda puede crecer muchísimo.\n",
    "\n",
    "2. Puede perder tiempo generando estados irrelevantes si no se usan buenas heurísticas.\n",
    "\n",
    "**Planificación hacia atrás**\n",
    "\n",
    "Ventajas:\n",
    "\n",
    "1. Enfoca la búsqueda en estados más relevantes para alcanzar la meta.\n",
    "\n",
    "2. Puede ser más eficiente cuando el objetivo está muy bien definido y es específico.\n",
    "\n",
    "Desventajas:\n",
    "\n",
    "1. No siempre es fácil encontrar acciones que “deshagan” el objetivo.\n",
    "\n",
    "2. Puede llegar a estados intermedios que son inconsistentes, que no sean factibles en el mundo real.\n",
    "\n",
    "3. Es más complejo de implementar en algunos dominios.\n",
    "\n",
    "\n",
    "---"
   ]
  },
  {
   "cell_type": "markdown",
   "metadata": {},
   "source": [
    "4. Considere el problema de ponerse uno mismo zapatos y medias. Aplique GRAPHPLAN a este problema y muestre la solución obtenida. Muestre el plan de orden parcial que es solución e indique cuántas linealizaciones diferentes existen para el plan de orden parcial."
   ]
  },
  {
   "cell_type": "markdown",
   "metadata": {},
   "source": [
    "### GraphPlan\n",
    "\n",
    "![\"Graphplan\"](GraphPlan.png) \n",
    "\n",
    "\n",
    "Procedimiento Secuencial con: \n",
    "\n",
    "-MediaDerecha, -MediaIzquierda, -ZapatoDerecho y -ZapatoIzquierdo\n",
    "\n",
    "Pasos:\n",
    "\n",
    " * PonerMedia en derecha - Resultado: MediaDerecha, -MediaIzquierda, -ZapatoDerecho y -ZapatoIzquierdo.\n",
    "\n",
    " * Poner Media en izquierda - Resultado: MediaDerecha, MediaIzquierda, -ZapatoDerecho y -ZapatoIzquierdo.\n",
    "\n",
    " * PonerZapato en derecha - Resultado: MediaDerecha, MediaIzquierda, ZapatoDerecho y -ZapatoIzquierdo.\n",
    "\n",
    " * PonerZapato en izquierda - Resultado: MediaDerecha, MediaIzquierda, ZapatoDerecho y ZapatoIzquierdo.\n",
    "\n",
    "Secuencia de soluciòn: PonerMedia_der - PonerMedia_izq - PonerZapato_der - PonerZapato_izq\n",
    "\n",
    "---\n"
   ]
  },
  {
   "cell_type": "markdown",
   "metadata": {},
   "source": [
    "5. Se requiere ensamblar una máquina cuyas piezas están identificadas con las letras A, B, C, D y E. El tiempo que se tarda en ensamblar cada pieza es:\n",
    "\n",
    "* A: 2 semanas\n",
    "\n",
    "* B: 1 semana\n",
    "\n",
    "* C: 4 semanas\n",
    "\n",
    "* D: 3 semanas\n",
    "\n",
    "* E: 5 semanas\n",
    "\n",
    "    El orden de ensamblaje de cada pieza requiere que:\n",
    "\n",
    "* A esté realizado antes que C\n",
    "\n",
    "* B esté realizado antes que C\n",
    "\n",
    "* B esté realizado antes que D\n",
    "\n",
    "* C esté realizado antes que E\n",
    "\n",
    "* D esté realizado antes que E\n",
    "\n",
    "    Con esta información:\n",
    "\n",
    "        5.1 Arme el Plan de Orden Parcial.\n",
    "\n",
    "        5.2 Encuentre el Camino Crítico.\n",
    "\n",
    "        5.3 Encuentre los tiempos de relajación.\n",
    "\n",
    "        5.4 Dibuje un diagrama temporal indicando las tareas y los tiempos de relajación encontrados."
   ]
  },
  {
   "cell_type": "markdown",
   "metadata": {},
   "source": [
    "### Plan de Orden Total\n",
    "![\"Plan de Orden Total\"](Plan-de-orden-parcial.png)\n",
    "\n",
    "### Diagrama Temporal de Gantt\n",
    "![\"Diagrama de Gantt\"](Diagrama-Gantt.png)"
   ]
  },
  {
   "cell_type": "markdown",
   "metadata": {},
   "source": [
    "## Ejercicios de Implementación\n",
    "\n",
    "6. Suponga que tiene un robot de oficina capaz de moverse y tomar y depositar objetos. El robot solo puede tener un objeto a la vez, pero puede conseguir una *caja* en la que depositar varios objetos. Suponga que programa al robot para *ir a la tienda* a comprarle un *café* y en el camino de vuelta tome una *carta* del *buzón* de la oficina para para que se la traiga junto con el café. Describa en lenguaje STRIPS:\n",
    "\n",
    "        6.1 El dominio del robot (nombre, predicados y acciones que puede hacer el robot).\n",
    "\n",
    "        6.2 El problema que se quiere resolver (estado inicial, estado objetivo y objetos del mundo representados).\n",
    "\n",
    "        6.3 Introduzca el código desarrollado en los puntos anteriores en el [planificador online](http://lcas.lincoln.ac.uk/fast-downward/) y obtenga el plan de acción que tomará el robot para cumplir lo solicitado."
   ]
  },
  {
   "cell_type": "markdown",
   "metadata": {},
   "source": [
    "### DOMAIN"
   ]
  },
  {
   "cell_type": "markdown",
   "metadata": {},
   "source": [
    "**No se logró obtner un plan de acciones adecuado, asi como está funciona pero no cumple los requisitos**"
   ]
  },
  {
   "cell_type": "code",
   "execution_count": 1,
   "metadata": {},
   "outputs": [
    {
     "ename": "SyntaxError",
     "evalue": "invalid syntax. Perhaps you forgot a comma? (486929933.py, line 1)",
     "output_type": "error",
     "traceback": [
      "  \u001b[36mCell\u001b[39m\u001b[36m \u001b[39m\u001b[32mIn[1]\u001b[39m\u001b[32m, line 1\u001b[39m\n\u001b[31m    \u001b[39m\u001b[31m(define (domain gripper-strips)\u001b[39m\n             ^\n\u001b[31mSyntaxError\u001b[39m\u001b[31m:\u001b[39m invalid syntax. Perhaps you forgot a comma?\n"
     ]
    }
   ],
   "source": [
    "(define (domain gripper-strips)\n",
    "   (:predicates (room ?r)\n",
    "\t\t(item ?i)\n",
    "    (box ?b)\n",
    "\t\t(gripper ?g)\n",
    "\t\t(at-robby ?r)\n",
    "\t\t(at ?i ?r)\n",
    "\t\t(free ?g)\n",
    "\t\t(carry ?o ?g)\n",
    "    (in ?o ?b))\n",
    "\n",
    "   (:action move\n",
    "       :parameters  (?from ?to)\n",
    "       :precondition (and  (room ?from) (room ?to) (at-robby ?from))\n",
    "       :effect (and  (at-robby ?to)\n",
    "\t\t     (not (at-robby ?from))))\n",
    "\n",
    "\n",
    "\n",
    "   (:action pick\n",
    "       :parameters (?obj ?room ?gripper)\n",
    "       :precondition  (and  (item ?obj) (room ?room) (gripper ?gripper)\n",
    "\t\t\t    (at ?obj ?room) (at-robby ?room) (free ?gripper))\n",
    "       :effect (and (carry ?obj ?gripper)\n",
    "\t\t    (not (at ?obj ?room)) \n",
    "\t\t    (not (free ?gripper))))\n",
    "\n",
    " (:action put-into\n",
    "    :parameters (?obj ?box ?room ?gripper)\n",
    "    :precondition (and (item ?obj) (box ?box) (room ?room) (gripper ?gripper)\n",
    "                       (at-robby ?room) (carry ?obj ?gripper) (at ?box ?room))\n",
    "    :effect (and (in ?obj ?box) (free ?gripper) (not (carry ?obj ?g)))\n",
    "  )\n",
    "  \n",
    "  \n",
    "   (:action drop\n",
    "       :parameters  (?obj  ?room ?gripper)\n",
    "       :precondition  (and  (item ?obj) (room ?room) (gripper ?gripper)\n",
    "\t\t\t    (carry ?obj ?gripper) (at-robby ?room))\n",
    "       :effect (and (at ?obj ?room)\n",
    "\t\t    (free ?gripper)\n",
    "\t\t    (not (carry ?obj ?gripper)))))\n"
   ]
  },
  {
   "cell_type": "markdown",
   "metadata": {},
   "source": [
    "### PROBLEM"
   ]
  },
  {
   "cell_type": "code",
   "execution_count": null,
   "metadata": {},
   "outputs": [],
   "source": [
    "(define (problem strips-gripper-x-1)\n",
    "   (:domain gripper-strips)\n",
    "   (:objects office store mailbox box1 coffee letter efector)\n",
    "   (:init (room office)\n",
    "          (room store)\n",
    "          (room mailbox)\n",
    "          (item letter)\n",
    "          (item coffee)\n",
    "          (item box1)\n",
    "          (box box1)\n",
    "          (at-robby office)\n",
    "          (free efector)\n",
    "          (at box office)\n",
    "          (at coffee store)\n",
    "          (at letter mailbox)\n",
    "          (gripper efector))\n",
    "  \n",
    "   (:goal (and (at box office)\n",
    "               (at coffee office) ;ideal seria (in coffee box)\n",
    "               (at letter office)))) ; ideal seria (in letter box)\n",
    ";LO DEJO ASI PORQUE NO LOGRÉ QUE FUNCIONE"
   ]
  },
  {
   "cell_type": "markdown",
   "metadata": {},
   "source": [
    "\n",
    "# Bibliografía\n",
    "\n",
    "[Russell, S. & Norvig, P. (2004) _Inteligencia Artificial: Un Enfoque Moderno_. Pearson Educación S.A. (2a Ed.) Madrid, España](https://www.academia.edu/8241613/Inteligencia_Aritificial_Un_Enfoque_Moderno_2da_Edici%C3%B3n_Stuart_J_Russell_y_Peter_Norvig)\n",
    "\n",
    "[Poole, D. & Mackworth, A. (2023) _Artificial Intelligence: Foundations of Computational Agents_. Cambridge University Press (3a Ed.) Vancouver, Canada](https://artint.info/3e/html/ArtInt3e.html)"
   ]
  }
 ],
 "metadata": {
  "colab": {
   "authorship_tag": "ABX9TyNkaY83TIo2vj0VLym+xt9a",
   "provenance": []
  },
  "kernelspec": {
   "display_name": "Python 3",
   "name": "python3"
  },
  "language_info": {
   "codemirror_mode": {
    "name": "ipython",
    "version": 3
   },
   "file_extension": ".py",
   "mimetype": "text/x-python",
   "name": "python",
   "nbconvert_exporter": "python",
   "pygments_lexer": "ipython3",
   "version": "3.12.6"
  }
 },
 "nbformat": 4,
 "nbformat_minor": 0
}
