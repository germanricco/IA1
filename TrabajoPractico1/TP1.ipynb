{
 "cells": [
  {
   "attachments": {},
   "cell_type": "markdown",
   "metadata": {
    "id": "jWUX78DM7n9T"
   },
   "source": [
    "# Temas Tratados en el Trabajo Práctico 1\n",
    "\n",
    "* Diferencia entre Inteligencia e Inteligencia Artificial.\n",
    "\n",
    "* Concepto de omnisciencia, aprendizaje y autonomía.\n",
    "\n",
    "* Definición de Agente y sus características. Clasificación de Agentes según su estructura.\n",
    "\n",
    "* Identificación y categorización del Entorno de Trabajo en tabla REAS.\n",
    "\n",
    "* Caracterización del Entorno de Trabajo.\n",
    "\n",
    "# Anotaciones\n",
    "\n",
    "\"Acordarse de la definición de agente\""
   ]
  },
  {
   "cell_type": "markdown",
   "metadata": {},
   "source": [
    "# Ejercicios Teóricos\n",
    "\n",
    "1. Defina con sus propias palabras inteligencia natural, inteligencia artificial y agente."
   ]
  },
  {
   "cell_type": "markdown",
   "metadata": {},
   "source": [
    "**Inteligencia Natural**: es propia de los seres vivos(humanos, animales, plantas). Los seres vivos nacen con esta inteligencia, se basa en emociones, experiencia. Para ser caracterizado como inteligente tiene que ser útil y tener un obejtivo.\n",
    "\n",
    "**Inteligencia Artificial**: Es algo sintético, desarrollado por el hombre. \n",
    "\n",
    "**Agente**: Entidad que lee u obtiene la información útil para llevar su cabo su objetivo. Son entes con un objetivo específico."
   ]
  },
  {
   "cell_type": "markdown",
   "metadata": {},
   "source": [
    "\n",
    "2. ¿Qué es un agente racional?"
   ]
  },
  {
   "cell_type": "markdown",
   "metadata": {},
   "source": [
    "Busca optimizar el proceso en función al rendimiento buscado."
   ]
  },
  {
   "cell_type": "markdown",
   "metadata": {},
   "source": [
    "3. ¿Un agente es siempre una computadora?"
   ]
  },
  {
   "cell_type": "markdown",
   "metadata": {},
   "source": [
    "No siempre, no todas las soluciones a problemas implican el uso de programas o computadoras. Para cumplir un objetivo un agente puede constar de mecanismos u otras soluciones más simples. Simpre se debe buscar la herramienta para cada problema"
   ]
  },
  {
   "cell_type": "markdown",
   "metadata": {},
   "source": [
    "4. Defina Omnisciencia, Aprendizaje y Autonomía."
   ]
  },
  {
   "cell_type": "markdown",
   "metadata": {},
   "source": [
    "Omnisciencia: idealmente, un sistema conoce toda la información del entorno para desarrollar su función.\n",
    "Aprendizaje: parámetros internos que pueden mejorar en base a experiencia,  así optimizar su rendimiento\n",
    "Autonomía: No necesita supervisión externa para desempeñar correctamente su tarea, teniendo en cuenta el rendimiento buscado. (Agente que pueden desarrollar su propios modelos, donde configura o mejora sus parámetros). "
   ]
  },
  {
   "cell_type": "markdown",
   "metadata": {},
   "source": [
    "5. Defina cada tipo de agente en función de su **estructura** y dé un ejemplo de cada categoría."
   ]
  },
  {
   "cell_type": "markdown",
   "metadata": {},
   "source": [
    "Agente Reactivo Simple: agentes simples con inteligencia limitada. Ej: aspiradora, pava eléctrica\n",
    "Agente Reactivo Basado en Modelos: \n",
    "Agente Basado en Objetivos: se limita a cumplir con la tarea específica. Ej: buscar una ruta de un punto al otro\n",
    "Agente Basado en Utilidad: tiene en cuenta la forma en que debe desarrollar su objetivo. Ej: buscar el camino mas corto o cómodo de un punto al otro.\n"
   ]
  },
  {
   "cell_type": "markdown",
   "metadata": {},
   "source": [
    "6. Para los siguientes entornos de trabajo indique sus **propiedades**:\n",
    "\n",
    "        a. Una partida de ajedrez.\n",
    "\n",
    "        b. Un partido de baloncesto.\n",
    "\n",
    "        c. El juego Pacman.\n",
    "\n",
    "        d. El truco.\n",
    "\n",
    "        e. Las damas.\n",
    "\n",
    "        f. El juego tres en raya.\n",
    "\n",
    "        g. Un jugador de Pokémon Go.\n",
    "\n",
    "        h. Un robot explorador autónomo de Marte."
   ]
  },
  {
   "cell_type": "markdown",
   "metadata": {},
   "source": []
  },
  {
   "cell_type": "markdown",
   "metadata": {},
   "source": [
    "a. Partida de agedrez: \n",
    "    Totalmente observable -\n",
    "    Determinista -\n",
    "    Secuencial -\n",
    "    Estático -\n",
    "    Discreto -\n",
    "    Multiagente (Dos jugadores)\n",
    "\n",
    "b. Un partido de baloncesto: \n",
    "    Parcialmente observable - \n",
    "    Estocástico -\n",
    "    Secuencial -\n",
    "    Dinámico - \n",
    "    Continuo -\n",
    "    Multiagente (Dos equipos)\n",
    "\n",
    "c. Pacman: \n",
    "    Totalmente observable -\n",
    "    Estocástico -\n",
    "    Secuencial - \n",
    "    Dinámico -\n",
    "    Discreto -\n",
    "    Multiagente\n",
    "\n",
    "d. El Truco:\n",
    "    Parcialmente observable -\n",
    "    Estocástico -\n",
    "    Secuencial -\n",
    "    Estático -\n",
    "    Discreto -\n",
    "    Multiagente\n",
    "\n",
    "e. Las Damas:\n",
    "    Totalmente observable -\n",
    "    Determinista -\n",
    "    Secuencial -\n",
    "    Estático -\n",
    "    Discreto -\n",
    "    Multiagente\n",
    "\n",
    "f. El juego \"tres en raya\": \n",
    "    Totalmente observable -\n",
    "    Determinista -\n",
    "    Secuencial -\n",
    "    Estático -\n",
    "    Discreto -\n",
    "    Multiagente\n",
    "\n",
    "g. Un jugador de Pokemon Go:\n",
    "    Parcialmente observable -\n",
    "    Estocástico -\n",
    "    Secuencial - \n",
    "    Dinámico -\n",
    "    Continuo -\n",
    "    Multiagente\n",
    "\n",
    "h. Robot explorador autónomo en Marte: \n",
    "    Parcialmente observable -\n",
    "    Estático -\n",
    "    Secuencial -\n",
    "    Dinámico -\n",
    "    Continuo -\n",
    "    Un solo agente\n"
   ]
  },
  {
   "cell_type": "markdown",
   "metadata": {},
   "source": [
    "7. Elabore una tabla REAS para los siguientes entornos de trabajo:\n",
    "\n",
    "        a. Crucigrama.\n",
    "\n",
    "        b. Taxi circulando.\n",
    "\n",
    "        c. Robot clasificador de piezas."
   ]
  },
  {
   "cell_type": "markdown",
   "metadata": {},
   "source": [
    "a. Crucigrama\n",
    "    \n",
    "    Rendimiento: Maximizar el número de palabras correctas y completadas en el menor tiempo posible, basandose en descripciones y pistas sobre las palabras que van en los huecos en blanco.\n",
    "    \n",
    "    Entorno: Tablero bidimensional de celdas con casillas negras y blancas; definiciones textuales.\n",
    "    \n",
    "    Actuadores: Lápiz/teclado para escribir letras en celdas específicas; borrar letras.\n",
    "    \n",
    "    Sensores: Vista de las definiciones; vista del tablero y letras ya colocadas; memoria de palabras conocidas.\n",
    "\n",
    "\n",
    "b. Taxi circulando\n",
    "    \n",
    "    Rendimiento: Transportar pasajeros a su destino de manera segura, eficiente y en el menor tiempo, respetando las normas de tráfico.\n",
    "    \n",
    "    Entorno: Las calles de la ciudad, los otros vehículos, los peatones, las señales de tráfico, los semáforos y las condiciones meteorológicas.\n",
    "    \n",
    "    Actuadores: Acelerador, freno, volante, caja y palanca de cambios, motor, suspensión, ruedas, ejes, luces, mecanismos de cerrojo, bocina, etc. \n",
    "    \n",
    "    Sensores: GPS, velocímetro, sensor de combustible, sensor de temperatura,  micrófono para comunicarse con el pasajero y camaras de video para tener una vista del entorno (peatones, vehiculos, señales de transito, etc).\n",
    "\n",
    "c. Robot Clasificador de Piezas\n",
    "    \n",
    "    Rendimiento: Clasificar correctamente el 100% de las piezas en su contenedor designado en el menor tiempo posible.\n",
    "    \n",
    "    Entorno: Cinta transportadora con piezas de diferentes formas, tamaños o colores.\n",
    "    \n",
    "    Actuadores: El brazo robótico que coge y mueve las piezas, y los mecanismos para soltarlas en los contenedores, como pinzas, empujadores o cintas secundarias.\n",
    "    \n",
    "    Sensores: Cámaras para identificar las piezas por forma y color, sensores de peso y sensores de posición para detectar dónde están las piezas en la cinta transportadora.\n"
   ]
  },
  {
   "cell_type": "markdown",
   "metadata": {},
   "source": [
    "# Ejercicios Prácticos\n",
    "\n",
    "8. La Hormiga de Langton es un agente capaz de modificar el estado de la casilla en la que se encuentra para colorearla o bien de blanco o de negro. Al comenzar, la ubicación de la hormiga es una casilla aleatoria y mira hacia una de las cuatro casillas adyacentes. Si...\n",
    "\n",
    "* ... la casilla sobre la que está es blanca, cambia el color del cuadrado, gira noventa grados a la derecha y avanza un cuadrado.\n",
    "\n",
    "* ... la casilla sobre la que está es negra, cambia el color del cuadrado, gira noventa grados a la izquierda y avanza un cuadrado.\n",
    "\n",
    "    Caracterice el agente con su tabla REAS y las propiedades del entorno para después programarlo en Python:\n",
    "\n",
    "    ¿Observa que se repite algún patrón? De ser así, ¿a partir de qué iteración?"
   ]
  },
  {
   "cell_type": "markdown",
   "metadata": {
    "vscode": {
     "languageId": "plaintext"
    }
   },
   "source": [
    "### REAS\n",
    "1. Agente: Hormiga de Langton.\n",
    "2. Medidas de Rendimiento: Iteraciones minimas. Seguir las reglas sin errores, Reconocer y modificar el color de las celdas del tablero\n",
    "3. Entorno: Tablero 2D con celdas blancas y negras.\n",
    "4. Actuadores: Giro hacia la izquierda y derecha 90 grados, movimiento hacia adelante 1 celda o casilla y modificar color de la casilla.\n",
    "5. Sensores: Reconocer el color actual de la casilla donde se encuentra.\n",
    "\n",
    "### Propiedades del Entorno\n",
    "* Observabilidad: Parcialmente observable (La hormiga solo reconoce el color de la casilla actual).\n",
    "* Determinismo: Determinsta\n",
    "* Episódico: El comportamiento solo depende del estado de la celda actual.\n",
    "* Estático\n",
    "* Discreto\n",
    "* Agente Individual"
   ]
  },
  {
   "cell_type": "code",
   "execution_count": null,
   "metadata": {},
   "outputs": [],
   "source": [
    "import numpy as np\n",
    "import matplotlib.pyplot as plt\n",
    "from matplotlib.animation import FuncAnimation\n",
    "from IPython.display import HTML\n",
    "%matplotlib inline"
   ]
  },
  {
   "cell_type": "code",
   "execution_count": 7,
   "metadata": {},
   "outputs": [],
   "source": [
    "import pygame\n",
    "import random\n",
    "import sys\n",
    "import numpy as np"
   ]
  },
  {
   "cell_type": "code",
   "execution_count": 8,
   "metadata": {},
   "outputs": [
    {
     "name": "stdout",
     "output_type": "stream",
     "text": [
      "Iniciando Hormiga de Langton...\n",
      "Configuración recomendada para Ubuntu:\n",
      "- Pantalla completa: F11\n",
      "- Ajustar velocidad: Flechas ARRIBA/ABAJO\n"
     ]
    },
    {
     "ename": "SystemExit",
     "evalue": "",
     "output_type": "error",
     "traceback": [
      "An exception has occurred, use %tb to see the full traceback.\n",
      "\u001b[31mSystemExit\u001b[39m\n"
     ]
    }
   ],
   "source": [
    "class LangtonAnt:\n",
    "    def __init__(self, width=1200, height=900, cell_size=6):\n",
    "        # Configuración de pantalla\n",
    "        self.width = width\n",
    "        self.height = height\n",
    "        self.cell_size = cell_size\n",
    "        self.grid_cols = width // cell_size\n",
    "        self.grid_rows = height // cell_size\n",
    "        \n",
    "        # Inicializar grid con NumPy para mejor rendimiento\n",
    "        self.grid = np.zeros((self.grid_rows, self.grid_cols), dtype=np.uint8)\n",
    "        \n",
    "        # Inicializar hormiga\n",
    "        self.reset_ant()\n",
    "        \n",
    "        # Configurar Pygame\n",
    "        pygame.init()\n",
    "        self.screen = pygame.display.set_mode((width, height))\n",
    "        pygame.display.set_caption(\"Hormiga de Langton - Ubuntu\")\n",
    "        self.font = pygame.font.SysFont('ubuntu', 24)\n",
    "        self.paused = False\n",
    "        self.step_count = 0\n",
    "        self.fps = 60\n",
    "        \n",
    "        # Colores\n",
    "        self.colors = {\n",
    "            0: (255, 255, 255),  # Blanco\n",
    "            1: (0, 0, 0),        # Negro\n",
    "            'ant': (255, 0, 0),   # Rojo para la hormiga\n",
    "            'text': (50, 50, 150) # Azul para texto\n",
    "        }\n",
    "    \n",
    "    def reset_ant(self):\n",
    "        self.x = random.randint(0, self.grid_cols - 1)\n",
    "        self.y = random.randint(0, self.grid_rows - 1)\n",
    "        self.direction = random.randint(0, 3)  # 0=N, 1=E, 2=S, 3=O\n",
    "        \n",
    "    def move(self):\n",
    "        # Regla 1: Celda blanca\n",
    "        if self.grid[self.y, self.x] == 0:\n",
    "            self.grid[self.y, self.x] = 1\n",
    "            self.direction = (self.direction + 1) % 4  # Giro derecha\n",
    "        # Regla 2: Celda negra\n",
    "        else:\n",
    "            self.grid[self.y, self.x] = 0\n",
    "            self.direction = (self.direction - 1) % 4  # Giro izquierda\n",
    "        \n",
    "        # Avanzar según dirección\n",
    "        if self.direction == 0:   # Norte\n",
    "            self.y = (self.y - 1) % self.grid_rows\n",
    "        elif self.direction == 1:  # Este\n",
    "            self.x = (self.x + 1) % self.grid_cols\n",
    "        elif self.direction == 2:  # Sur\n",
    "            self.y = (self.y + 1) % self.grid_rows\n",
    "        elif self.direction == 3:  # Oeste\n",
    "            self.x = (self.x - 1) % self.grid_cols\n",
    "        \n",
    "        self.step_count += 1\n",
    "    \n",
    "    def draw(self):\n",
    "        # Dibujar fondo blanco\n",
    "        self.screen.fill(self.colors[0])\n",
    "        \n",
    "        # Dibujar celdas negras\n",
    "        for y in range(self.grid_rows):\n",
    "            for x in range(self.grid_cols):\n",
    "                if self.grid[y, x] == 1:\n",
    "                    pygame.draw.rect(\n",
    "                        self.screen, \n",
    "                        self.colors[1], \n",
    "                        (x * self.cell_size, y * self.cell_size, self.cell_size, self.cell_size)\n",
    "                    )\n",
    "        \n",
    "        # Dibujar hormiga (más visible)\n",
    "        ant_size = max(2, self.cell_size // 2)\n",
    "        pygame.draw.circle(\n",
    "            self.screen, \n",
    "            self.colors['ant'], \n",
    "            (self.x * self.cell_size + self.cell_size//2, \n",
    "             self.y * self.cell_size + self.cell_size//2),\n",
    "            ant_size\n",
    "        )\n",
    "        \n",
    "        # Dibujar información\n",
    "        status = \"PAUSADO\" if self.paused else \"EJECUTANDO\"\n",
    "        info_text = f\"Pasos: {self.step_count} | Estado: {status}\"\n",
    "        controls_text = \"Controles: [ESPACIO] Pausa/Reanudar | [R] Reiniciar | [ESC] Salir\"\n",
    "        \n",
    "        text_surface = self.font.render(info_text, True, self.colors['text'])\n",
    "        controls_surface = self.font.render(controls_text, True, self.colors['text'])\n",
    "        \n",
    "        self.screen.blit(text_surface, (10, 10))\n",
    "        self.screen.blit(controls_surface, (10, 40))\n",
    "    \n",
    "    def run(self):\n",
    "        clock = pygame.time.Clock()\n",
    "        \n",
    "        while True:\n",
    "            # Manejo de eventos\n",
    "            for event in pygame.event.get():\n",
    "                if event.type == pygame.QUIT:\n",
    "                    pygame.quit()\n",
    "                    sys.exit()\n",
    "                elif event.type == pygame.KEYDOWN:\n",
    "                    if event.key == pygame.K_SPACE:\n",
    "                        self.paused = not self.paused\n",
    "                    elif event.key == pygame.K_r:\n",
    "                        self.grid = np.zeros((self.grid_rows, self.grid_cols), dtype=np.uint8)\n",
    "                        self.reset_ant()\n",
    "                        self.step_count = 0\n",
    "                    elif event.key == pygame.K_ESCAPE:\n",
    "                        pygame.quit()\n",
    "                        sys.exit()\n",
    "                    elif event.key == pygame.K_UP:\n",
    "                        self.fps = min(300, self.fps + 10)\n",
    "                    elif event.key == pygame.K_DOWN:\n",
    "                        self.fps = max(10, self.fps - 10)\n",
    "            \n",
    "            # Actualizar posición si no está pausado\n",
    "            if not self.paused:\n",
    "                self.move()\n",
    "            \n",
    "            # Dibujar\n",
    "            self.draw()\n",
    "            pygame.display.flip()\n",
    "            clock.tick(self.fps)\n",
    "\n",
    "# Iniciar simulación\n",
    "if __name__ == \"__main__\":\n",
    "    print(\"Iniciando Hormiga de Langton...\")\n",
    "    print(\"Configuración recomendada para Ubuntu:\")\n",
    "    print(\"- Pantalla completa: F11\")\n",
    "    print(\"- Ajustar velocidad: Flechas ARRIBA/ABAJO\")\n",
    "    \n",
    "    # Tamaño optimizado para pantallas de Ubuntu\n",
    "    sim = LangtonAnt(width=1200, height=900, cell_size=6)\n",
    "    sim.run()"
   ]
  },
  {
   "cell_type": "markdown",
   "metadata": {},
   "source": [
    "### Analisis\n",
    "\n",
    "Observamos que a partir de la Iteración 10000 aproximadamente se empieza a construir una avenida o autopista\n",
    "\n",
    "![Hormiga Langton. Construccion de Autopista](Hormiga-de-Langton.png)"
   ]
  },
  {
   "cell_type": "markdown",
   "metadata": {},
   "source": [
    "9. El Juego de la Vida de Conway consiste en un tablero donde cada casilla representa una célula, de manera que a cada célula le rodean 8 vecinas. Las células tienen dos estados: están *vivas* o *muertas*. En cada iteración, el estado de todas las células se tiene en cuenta para calcular el estado siguiente en simultáneo de acuerdo a las siguientes acciones:\n",
    "\n",
    "* Nacer: Si una célula muerta tiene exactamente 3 células vecinas vivas, dicha célula pasa a estar viva.\n",
    "\n",
    "* Morir: Una célula viva puede morir sobrepoblación cuando tiene más de tres vecinos alrededor o por aislamiento si tiene solo un vecino o ninguno.\n",
    "\n",
    "* Vivir: una célula se mantiene viva si tiene 2 o 3 vecinos a su alrededor.\n",
    "\n",
    "    Caracterice el agente con su tabla REAS y las propiedades del entorno para después programarlo en Python:"
   ]
  },
  {
   "cell_type": "markdown",
   "metadata": {},
   "source": [
    "#REAS\n",
    " Rendimiento: Cumplir las reglas de evolución y  actualizar los estados de las células.\n",
    " Entorno: Tablero bidimensional con una cantidad finita de células, cada una con dos estados posibles, vivo o muerto. \n",
    " Actuadores: Cambiador de estado de las células en cada iteración.\n",
    " Sensores: Lectura del estado de cada célula y sus 8 vecinas.\n",
    "\n",
    "#Propiedades del Entorno\n",
    " Observabilidad: Totalmente Observable\n",
    " Determinismo: Determinista\n",
    " Episocidad: Secuencial\n",
    " Dinamismo: Estático\n",
    " Discreción: Discreto\n",
    " Agentes: Un solo agente"
   ]
  },
  {
   "attachments": {},
   "cell_type": "markdown",
   "metadata": {
    "id": "oXcAF__NmgG5"
   },
   "source": [
    "# Bibliografía\n",
    "\n",
    "[Russell, S. & Norvig, P. (2004) _Inteligencia Artificial: Un Enfoque Moderno_. Pearson Educación S.A. (2a Ed.) Madrid, España](https://www.academia.edu/8241613/Inteligencia_Aritificial_Un_Enfoque_Moderno_2da_Edici%C3%B3n_Stuart_J_Russell_y_Peter_Norvig)\n",
    "\n",
    "[Poole, D. & Mackworth, A. (2023) _Artificial Intelligence: Foundations of Computational Agents_. Cambridge University Press (3a Ed.) Vancouver, Canada](https://artint.info/3e/html/ArtInt3e.html)"
   ]
  }
 ],
 "metadata": {
  "colab": {
   "provenance": []
  },
  "kernelspec": {
   "display_name": "langton_venv",
   "language": "python",
   "name": "python3"
  },
  "language_info": {
   "codemirror_mode": {
    "name": "ipython",
    "version": 3
   },
   "file_extension": ".py",
   "mimetype": "text/x-python",
   "name": "python",
   "nbconvert_exporter": "python",
   "pygments_lexer": "ipython3",
   "version": "3.12.3"
  }
 },
 "nbformat": 4,
 "nbformat_minor": 0
}
