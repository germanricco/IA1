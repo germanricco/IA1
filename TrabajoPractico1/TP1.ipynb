{
 "cells": [
  {
   "attachments": {},
   "cell_type": "markdown",
   "metadata": {
    "id": "jWUX78DM7n9T"
   },
   "source": [
    "# Temas Tratados en el Trabajo Práctico 1\n",
    "\n",
    "* Diferencia entre Inteligencia e Inteligencia Artificial.\n",
    "\n",
    "* Concepto de omnisciencia, aprendizaje y autonomía.\n",
    "\n",
    "* Definición de Agente y sus características. Clasificación de Agentes según su estructura.\n",
    "\n",
    "* Identificación y categorización del Entorno de Trabajo en tabla REAS.\n",
    "\n",
    "* Caracterización del Entorno de Trabajo.\n",
    "\n",
    "# Anotaciones\n",
    "\n",
    "\"Acordarse de la definición de agente\""
   ]
  },
  {
   "cell_type": "markdown",
   "metadata": {},
   "source": [
    "# Ejercicios Teóricos\n",
    "\n",
    "1. Defina con sus propias palabras inteligencia natural, inteligencia artificial y agente."
   ]
  },
  {
   "cell_type": "markdown",
   "metadata": {},
   "source": [
    "Inteligencia Natural: es propia de los seres vivos(humanos, animales, plantas). Los seres vivos nacen con esta inteligencia, se basa en emociones, experiencia. Para ser caracterizado como inteligente tiene que ser útil y tener un obejtivo.\n",
    "Inteligencia Artificial: es algo sintético, desarrollado por el hombre. \n",
    "Agente: entidad que lee u obtiene la información útil para llevar su cabo su objetivo. Son entes con un objetivo específico."
   ]
  },
  {
   "cell_type": "markdown",
   "metadata": {},
   "source": [
    "\n",
    "2. ¿Qué es un agente racional?"
   ]
  },
  {
   "cell_type": "markdown",
   "metadata": {},
   "source": [
    "Busca optimizar el proceso en función al rendimiento buscado."
   ]
  },
  {
   "cell_type": "markdown",
   "metadata": {},
   "source": [
    "3. ¿Un agente es siempre una computadora?"
   ]
  },
  {
   "cell_type": "markdown",
   "metadata": {},
   "source": [
    "No siempre, no todas las soluciones a problemas implican el uso de programas o computadoras. Para cumplir un objetivo un agente puede constar de mecanismos u otras soluciones más simples. Simpre se debe buscar la herramienta para cada problema"
   ]
  },
  {
   "cell_type": "markdown",
   "metadata": {},
   "source": [
    "4. Defina Omnisciencia, Aprendizaje y Autonomía."
   ]
  },
  {
   "cell_type": "markdown",
   "metadata": {},
   "source": [
    "Omnisciencia: idealmente, un sistema conoce toda la información del entorno para desarrollar su función.\n",
    "Aprendizaje: parámetros internos que pueden mejorar en base a experiencia,  así optimizar su rendimiento\n",
    "Autonomía: No necesita supervisión externa para desempeñar correctamente su tarea, teniendo en cuenta el rendimiento buscado. (Agente que pueden desarrollar su propios modelos, donde configura o mejora sus parámetros). "
   ]
  },
  {
   "cell_type": "markdown",
   "metadata": {},
   "source": [
    "5. Defina cada tipo de agente en función de su **estructura** y dé un ejemplo de cada categoría."
   ]
  },
  {
   "cell_type": "markdown",
   "metadata": {},
   "source": [
    "Agente Reactivo Simple: agentes simples con inteligencia limitada. Ej: aspiradora, pava eléctrica\n",
    "Agente Reactivo Basado en Modelos: \n",
    "Agente Basado en Objetivos: se limita a cumplir con la tarea específica. Ej: buscar una ruta de un punto al otro\n",
    "Agente Basado en Utilidad: tiene en cuenta la forma en que debe desarrollar su objetivo. Ej: buscar el camino mas corto o cómodo de un punto al otro.\n"
   ]
  },
  {
   "cell_type": "markdown",
   "metadata": {},
   "source": [
    "6. Para los siguientes entornos de trabajo indique sus **propiedades**:\n",
    "\n",
    "        a. Una partida de ajedrez.\n",
    "\n",
    "        b. Un partido de baloncesto.\n",
    "\n",
    "        c. El juego Pacman.\n",
    "\n",
    "        d. El truco.\n",
    "\n",
    "        e. Las damas.\n",
    "\n",
    "        f. El juego tres en raya.\n",
    "\n",
    "        g. Un jugador de Pokémon Go.\n",
    "\n",
    "        h. Un robot explorador autónomo de Marte."
   ]
  },
  {
   "cell_type": "markdown",
   "metadata": {},
   "source": []
  },
  {
   "cell_type": "code",
   "execution_count": null,
   "metadata": {
    "vscode": {
     "languageId": "plaintext"
    }
   },
   "outputs": [],
   "source": [
    "a. Partida de agedrez\n",
    "    Totalmente observable \n",
    "    Determinista\n",
    "    Secuencial\n",
    "    Estático\n",
    "    Discreto\n",
    "    Multiagente (Dos jugadores)\n",
    "\n",
    "b. Un partido de baloncesto\n",
    "    Parcialmente observable?\n",
    "    Estocástico\n",
    "    Secuencial\n",
    "    Dinámico\n",
    "    Continuo\n",
    "    Multiagente (Dos equipos)\n",
    "\n",
    "c. Pacman\n",
    "    Totalmente observable?\n",
    "    Estocástico\n",
    "    Secuencial\n",
    "    Dinámico\n",
    "    Discreto\n",
    "    Multiagente\n",
    "\n",
    "d. El Truco\n",
    "    Parcialmente observable\n",
    "    Estocástico\n",
    "    Secuencial\n",
    "    Estático\n",
    "    Discreto\n",
    "    Multiagente\n",
    "\n",
    "e. Las Damas\n",
    "    Totalmente observable\n",
    "    Determinista\n",
    "    Secuencial\n",
    "    Estático\n",
    "    Discreto\n",
    "    Multiagente\n",
    "\n",
    "f. El juego \"tres en raya\" \n",
    "    Totalmente observable\n",
    "    Determinista\n",
    "    Secuencial\n",
    "    Estático\n",
    "    Discreto\n",
    "    Multiagente\n",
    "\n",
    "g. Un jugador de Pokemon Go\n",
    "    Parcialmente observable\n",
    "    Estocástico\n",
    "    Secuencial \n",
    "    Dinámico\n",
    "    Continuo \n",
    "    Multiagente?\n",
    "\n",
    "h. Robot explorador autónomo en Marte\n",
    "    Parcialmente observable\n",
    "    Estático\n",
    "    Secuencial\n",
    "    Dinámico\n",
    "    Continuo\n",
    "    Un solo agente\n",
    "\n"
   ]
  },
  {
   "cell_type": "markdown",
   "metadata": {},
   "source": [
    "7. Elabore una tabla REAS para los siguientes entornos de trabajo:\n",
    "\n",
    "        a. Crucigrama.\n",
    "\n",
    "        b. Taxi circulando.\n",
    "\n",
    "        c. Robot clasificador de piezas."
   ]
  },
  {
   "cell_type": "markdown",
   "metadata": {},
   "source": [
    "a. Crucigrama\n",
    "    \n",
    "    Rendimiento: Maximizar el número de palabras correctas y completadas en el menor tiempo posible, basandose en descripciones y pistas sobre las palabras que van en los huecos en blanco.\n",
    "    \n",
    "    Entorno: Tablero bidimensional de celdas con casillas negras y blancas; definiciones textuales.\n",
    "    \n",
    "    Actuadores: Lápiz/teclado para escribir letras en celdas específicas; borrar letras.\n",
    "    \n",
    "    Sensores: Vista de las definiciones; vista del tablero y letras ya colocadas; memoria de palabras conocidas.\n",
    "\n",
    "\n",
    "b. Taxi circulando\n",
    "    \n",
    "    Rendimiento: Transportar pasajeros a su destino de manera segura, eficiente y en el menor tiempo, respetando las normas de tráfico.\n",
    "    \n",
    "    Entorno: Las calles de la ciudad, los otros vehículos, los peatones, las señales de tráfico, los semáforos y las condiciones meteorológicas.\n",
    "    \n",
    "    Actuadores: Acelerador, freno, volante, caja y palanca de cambios, motor, suspensión, ruedas, ejes, luces, mecanismos de cerrojo, bocina, etc. \n",
    "    \n",
    "    Sensores: GPS, velocímetro, sensor de combustible, sensor de temperatura,  micrófono para comunicarse con el pasajero y camaras de video para tener una vista del entorno (peatones, vehiculos, señales de transito, etc).\n",
    "\n",
    "c. Robot Clasificador de Piezas\n",
    "    \n",
    "    Rendimiento: Clasificar correctamente el 100% de las piezas en su contenedor designado en el menor tiempo posible.\n",
    "    \n",
    "    Entorno: Cinta transportadora con piezas de diferentes formas, tamaños o colores.\n",
    "    \n",
    "    Actuadores: El brazo robótico que coge y mueve las piezas, y los mecanismos para soltarlas en los contenedores, como pinzas, empujadores o cintas secundarias.\n",
    "    \n",
    "    Sensores: Cámaras para identificar las piezas por forma y color, sensores de peso y sensores de posición para detectar dónde están las piezas en la cinta transportadora.\n"
   ]
  },
  {
   "cell_type": "markdown",
   "metadata": {},
   "source": [
    "# Ejercicios Prácticos\n",
    "\n",
    "8. La Hormiga de Langton es un agente capaz de modificar el estado de la casilla en la que se encuentra para colorearla o bien de blanco o de negro. Al comenzar, la ubicación de la hormiga es una casilla aleatoria y mira hacia una de las cuatro casillas adyacentes. Si...\n",
    "\n",
    "* ... la casilla sobre la que está es blanca, cambia el color del cuadrado, gira noventa grados a la derecha y avanza un cuadrado.\n",
    "\n",
    "* ... la casilla sobre la que está es negra, cambia el color del cuadrado, gira noventa grados a la izquierda y avanza un cuadrado.\n",
    "\n",
    "    Caracterice el agente con su tabla REAS y las propiedades del entorno para después programarlo en Python:\n",
    "\n",
    "    ¿Observa que se repite algún patrón? De ser así, ¿a partir de qué iteración?"
   ]
  },
  {
   "cell_type": "code",
   "execution_count": null,
   "metadata": {
    "vscode": {
     "languageId": "plaintext"
    }
   },
   "outputs": [],
   "source": []
  },
  {
   "cell_type": "markdown",
   "metadata": {},
   "source": [
    "9. El Juego de la Vida de Conway consiste en un tablero donde cada casilla representa una célula, de manera que a cada célula le rodean 8 vecinas. Las células tienen dos estados: están *vivas* o *muertas*. En cada iteración, el estado de todas las células se tiene en cuenta para calcular el estado siguiente en simultáneo de acuerdo a las siguientes acciones:\n",
    "\n",
    "* Nacer: Si una célula muerta tiene exactamente 3 células vecinas vivas, dicha célula pasa a estar viva.\n",
    "\n",
    "* Morir: Una célula viva puede morir sobrepoblación cuando tiene más de tres vecinos alrededor o por aislamiento si tiene solo un vecino o ninguno.\n",
    "\n",
    "* Vivir: una célula se mantiene viva si tiene 2 o 3 vecinos a su alrededor.\n",
    "\n",
    "    Caracterice el agente con su tabla REAS y las propiedades del entorno para después programarlo en Python:"
   ]
  },
  {
   "cell_type": "code",
   "execution_count": null,
   "metadata": {
    "vscode": {
     "languageId": "plaintext"
    }
   },
   "outputs": [],
   "source": []
  },
  {
   "attachments": {},
   "cell_type": "markdown",
   "metadata": {
    "id": "oXcAF__NmgG5"
   },
   "source": [
    "# Bibliografía\n",
    "\n",
    "[Russell, S. & Norvig, P. (2004) _Inteligencia Artificial: Un Enfoque Moderno_. Pearson Educación S.A. (2a Ed.) Madrid, España](https://www.academia.edu/8241613/Inteligencia_Aritificial_Un_Enfoque_Moderno_2da_Edici%C3%B3n_Stuart_J_Russell_y_Peter_Norvig)\n",
    "\n",
    "[Poole, D. & Mackworth, A. (2023) _Artificial Intelligence: Foundations of Computational Agents_. Cambridge University Press (3a Ed.) Vancouver, Canada](https://artint.info/3e/html/ArtInt3e.html)"
   ]
  }
 ],
 "metadata": {
  "colab": {
   "provenance": []
  },
  "kernelspec": {
   "display_name": "Python 3",
   "name": "python3"
  },
  "language_info": {
   "name": "python"
  }
 },
 "nbformat": 4,
 "nbformat_minor": 0
}
