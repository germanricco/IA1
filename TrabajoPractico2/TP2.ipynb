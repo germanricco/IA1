{
 "cells": [
  {
   "attachments": {},
   "cell_type": "markdown",
   "metadata": {
    "id": "1ZXwsM9Hq9mI",
    "slideshow": {
     "slide_type": "slide"
    }
   },
   "source": [
    "# Temas Tratados en el Trabajo Práctico 2\n",
    "\n",
    "* Conceptos de Búsqueda no Informada y Búsqueda Informada.\n",
    "\n",
    "* Concepto de Heurística.\n",
    "\n",
    "* Abstracción de Problemas como Gráficos de Árbol.\n",
    "\n",
    "* Estrategias de Búsqueda no Informada: Primero en Amplitud, Primero en Profundidad y Profundidad Limitada.\n",
    "\n",
    "* Estrategias de Búsqueda Informada: Búsqueda Voraz, Costo Uniforme, A*."
   ]
  },
  {
   "cell_type": "markdown",
   "metadata": {},
   "source": [
    "\n",
    "## Ejercicios Teóricos\n",
    "\n",
    "1. ¿Qué diferencia hay entre una estrategia de búsqueda Informada y una estrategia de búsqueda No Informada?"
   ]
  },
  {
   "cell_type": "markdown",
   "metadata": {},
   "source": [
    "Las estrategias de búsqueda no informada, al no disponer de información sobre los nodos, deben explorar el espacio de estados de manera sistemática pero indiscriminada, expandiendo nodos sin priorización inteligente. Esto las hace garantizar completitud pero las vuelve computacionalmente costosas en espacios de estados grandes.\n",
    "\n",
    "Por el contrario, las estrategias de búsqueda informada utilizan funciones heurísticas que estiman la proximidad al objetivo, permitiendo dirigir la exploración hacia los nodos más prometedores. Esto las hace significativamente más eficientes, aunque esto depende de la calidad de la heurística empleada"
   ]
  },
  {
   "cell_type": "markdown",
   "metadata": {},
   "source": [
    "2. ¿Qué es una heurística y para qué sirve?"
   ]
  },
  {
   "cell_type": "markdown",
   "metadata": {},
   "source": [
    "La función heurística h(n) estima el costo mínimo desde el nodo n hasta un nodo objetivo, proporcionando al algorítmo información sobre qué dirección parece más prometedora. Aunque no garantiza una solución óptima, permite tomar decisiones inteligéntes que aceleran el proceso de búsqueda en problemas complejos\n",
    "\n",
    "Por ejemplo en sistemas de navegación GPS la heurística seria \"La distancia en línea recta (distancia euclidiana) hasta el objetivo\". Esto ayuda al algoritmo a elegir primero caminos que van en la dirección correcta"
   ]
  },
  {
   "cell_type": "markdown",
   "metadata": {},
   "source": [
    "3. ¿Es posible que un algoritmo de búsqueda no tenga solución?"
   ]
  },
  {
   "cell_type": "markdown",
   "metadata": {},
   "source": [
    "Si, esto se puede deber a varios factores:\n",
    "\n",
    "1. El problema no tiene solución.\n",
    "2. El espacio de búsqueda es infinito\n",
    "3. Limitaciones de recursos o diseño\n",
    "4. El objetivo es inalcanzable\n",
    "\n",
    "Un buen algoritmo de búsqueda debe ser capaz de reconocer y reportar cuando un problema no tiene solución. Para ello se deben diseñar algoritmos que detecten estados repetidos y tengan criterios de parada claros"
   ]
  },
  {
   "cell_type": "markdown",
   "metadata": {},
   "source": [
    "4. Describa en qué secuencia será recorrido el Árbol de Búsqueda representado en la imagen cuando se aplica un Algoritmo de Búsqueda con la estrategia:\n",
    "\n",
    "        4.1 Primero en Amplitud.\n",
    "\n",
    "        4.2 Primero en Profundidad.\n",
    "\n",
    "        4.3 Primero en Profundidad con Profundidad Limitada Iterativa (comenzando por un nivel de profundidad 1)."
   ]
  },
  {
   "cell_type": "code",
   "execution_count": 5,
   "metadata": {},
   "outputs": [
    {
     "ename": "ModuleNotFoundError",
     "evalue": "No module named 'requests'",
     "output_type": "error",
     "traceback": [
      "\u001b[31m---------------------------------------------------------------------------\u001b[39m",
      "\u001b[31mModuleNotFoundError\u001b[39m                       Traceback (most recent call last)",
      "\u001b[36mCell\u001b[39m\u001b[36m \u001b[39m\u001b[32mIn[5]\u001b[39m\u001b[32m, line 1\u001b[39m\n\u001b[32m----> \u001b[39m\u001b[32m1\u001b[39m \u001b[38;5;28;01mimport\u001b[39;00m\u001b[38;5;250m \u001b[39m\u001b[34;01mrequests\u001b[39;00m\n\u001b[32m      2\u001b[39m \u001b[38;5;28;01mfrom\u001b[39;00m\u001b[38;5;250m \u001b[39m\u001b[34;01mPIL\u001b[39;00m\u001b[38;5;250m \u001b[39m\u001b[38;5;28;01mimport\u001b[39;00m Image\n\u001b[32m      3\u001b[39m \u001b[38;5;28;01mfrom\u001b[39;00m\u001b[38;5;250m \u001b[39m\u001b[34;01mio\u001b[39;00m\u001b[38;5;250m \u001b[39m\u001b[38;5;28;01mimport\u001b[39;00m BytesIO\n",
      "\u001b[31mModuleNotFoundError\u001b[39m: No module named 'requests'"
     ]
    }
   ],
   "source": [
    "import requests\n",
    "from PIL import Image\n",
    "from io import BytesIO\n",
    "import matplotlib.pyplot as plt\n",
    "\n",
    "# URL directa de Google Drive\n",
    "url = \"https://drive.google.com/uc?export=view&id=1IJDEKWhfMEzXnzr28RgTNOuKBER2NsuP\"\n",
    "\n",
    "# Descargar la imagen\n",
    "response = requests.get(url)\n",
    "img = Image.open(BytesIO(response.content))\n",
    "\n",
    "# Mostrar la imagen\n",
    "plt.imshow(img)\n",
    "plt.axis('off')  # Ocultar ejes\n",
    "plt.show()"
   ]
  },
  {
   "cell_type": "code",
   "execution_count": null,
   "metadata": {},
   "outputs": [],
   "source": [
    "import requests\n",
    "from PIL import Image\n",
    "from io import BytesIO\n",
    "import matplotlib.pyplot as plt\n",
    "\n",
    "# URL directa de Google Drive\n",
    "url = \"https://drive.google.com/uc?export=view&id=1IJDEKWhfMEzXnzr28RgTNOuKBER2NsuP\"\n",
    "\n",
    "# Descargar la imagen\n",
    "response = requests.get(url)\n",
    "img = Image.open(BytesIO(response.content))\n",
    "\n",
    "# Mostrar la imagen\n",
    "plt.imshow(img)\n",
    "plt.axis('off')  # Ocultar ejes\n",
    "plt.show()"
   ]
  },
  {
   "cell_type": "markdown",
   "metadata": {},
   "source": [
    "Muestre la respuesta en una tabla, indicando para cada paso que da el agente el nodo que evalúa actualmente y los que están en la pila/cola de expansión según corresponda."
   ]
  },
  {
   "cell_type": "code",
   "execution_count": null,
   "metadata": {},
   "outputs": [
    {
     "data": {
      "image/png": "[encoded data removed]",
      "text/plain": [
       "<Figure size 1166.25x400 with 1 Axes>"
      ]
     },
     "metadata": {},
     "output_type": "display_data"
    }
   ],
   "source": [
    "url = \"https://drive.google.com/uc?export=view&id=1fW_BgT5muzQffMVRcIiB2mM2Zf66Nb-m\"\n",
    "response = requests.get(url)\n",
    "img = Image.open(BytesIO(response.content))\n",
    "\n",
    "# Mostrar con figura más grande\n",
    "plt.figure(figsize=(img.width / 80, img.height / 80))  # ajustá el divisor según densidad deseada\n",
    "plt.imshow(img)\n",
    "plt.axis('off')\n",
    "plt.show()"
   ]
  },
  {
   "cell_type": "markdown",
   "metadata": {},
   "source": [
    "### Secuencias de Recorrido\n",
    "\n",
    "![Primero en Amplitud](tabla_recorrido_primero_en_amplitud.png)\n",
    "\n",
    "![Primero en profundidad](tabla_recorrido_primero_en_profundidad.png)\n",
    "\n",
    "![Primero en profundidad con Profundidad Iterativa](tabla_recorrido_primero_en_profundidad_con_prof_iterativa.png)\n"
   ]
  },
  {
   "cell_type": "markdown",
   "metadata": {},
   "source": [
    "## Ejercicios de Implementación\n",
    "\n",
    "5. Represente el tablero mostrado en la imágen como un árbol de búsqueda y a continuación programe un agente capaz de navegar por el tablero para llegar desde la casilla I a la casilla F utilizando:\n",
    "\n",
    "        5.1 La estrategia Primero en Profundidad.\n",
    "\n",
    "        5.2 La estrategia Avara.\n",
    "\n",
    "        5.3 La estrategia A*.\n",
    "\n",
    "Considere los siguientes comportamientos del agente:\n",
    "\n",
    "* El agente no podrá moverse a las casillas siguientes si las separa una pared.\n",
    "\n",
    "* La heurística empleada en el problema es la Distancia de Manhattan hasta la casilla objetivo (el menor número de casillas adyacentes entre la casilla actual y la casilla objetivo).\n",
    "\n",
    "* El costo de atravesar una casilla es de 1, a excepción de la casilla W, cuyo costo al atravesarla es 30.\n",
    "\n",
    "* En caso de que varias casillas tengan el mismo valor para ser expandidas, el algoritmo eligirá en orden alfabético las casillas que debe visitar."
   ]
  },
  {
   "cell_type": "code",
   "execution_count": 21,
   "metadata": {},
   "outputs": [
    {
     "name": "stdout",
     "output_type": "stream",
     "text": [
      "Requirement already satisfied: requests in /home/german/Documents/ia1_2025/IA1/langton_venv/lib/python3.12/site-packages (2.32.5)\n",
      "Requirement already satisfied: charset_normalizer<4,>=2 in /home/german/Documents/ia1_2025/IA1/langton_venv/lib/python3.12/site-packages (from requests) (3.4.3)\n",
      "Requirement already satisfied: idna<4,>=2.5 in /home/german/Documents/ia1_2025/IA1/langton_venv/lib/python3.12/site-packages (from requests) (3.10)\n",
      "Requirement already satisfied: urllib3<3,>=1.21.1 in /home/german/Documents/ia1_2025/IA1/langton_venv/lib/python3.12/site-packages (from requests) (2.5.0)\n",
      "Requirement already satisfied: certifi>=2017.4.17 in /home/german/Documents/ia1_2025/IA1/langton_venv/lib/python3.12/site-packages (from requests) (2025.8.3)\n",
      "Note: you may need to restart the kernel to use updated packages.\n"
     ]
    }
   ],
   "source": [
    "%pip install requests\n",
    "import requests\n",
    "from requests import get\n",
    "from PIL import Image\n",
    "from io import BytesIO\n",
    "import matplotlib.pyplot as plt"
   ]
  },
  {
   "cell_type": "code",
   "execution_count": 22,
   "metadata": {},
   "outputs": [
    {
     "data": {
      "image/png": "[encoded data removed]",
      "text/plain": [
       "<Figure size 640x480 with 1 Axes>"
      ]
     },
     "metadata": {},
     "output_type": "display_data"
    }
   ],
   "source": [
    "url = \"https://drive.google.com/uc?export=view&id=1FajYiBQ507o6yiE7MndL-PQXyoyELtuD\"\n",
    "response = requests.get(url)\n",
    "img = Image.open(BytesIO(response.content))\n",
    "plt.imshow(img)\n",
    "plt.axis('off')\n",
    "plt.show()"
   ]
  },
  {
   "cell_type": "markdown",
   "metadata": {},
   "source": [
    "### Estructura general del Problema\n",
    "\n",
    "Comenzamos definiendo y construyendo las clases que representan nuestro mundo o tablero.\n",
    "\n",
    "Definimos las clases:\n",
    "* Casilla\n",
    "* Tablero"
   ]
  },
  {
   "cell_type": "code",
   "execution_count": 68,
   "metadata": {},
   "outputs": [],
   "source": [
    "# Importo Librerias\n",
    "import pygame\n",
    "from enum import Enum\n",
    "from typing import Dict, List, Set, Tuple, Optional"
   ]
  },
  {
   "cell_type": "code",
   "execution_count": 71,
   "metadata": {},
   "outputs": [],
   "source": [
    "class TipoCasilla:\n",
    "    VALIDO = 'valido'\n",
    "    INVALIDO = 'invalido'\n",
    "    INICIO = 'inicio'\n",
    "    FINAL = 'final'\n",
    "\n",
    "class Casilla:\n",
    "    \"\"\"\n",
    "    Representa una casilla en el tablero.\n",
    "    \"\"\"\n",
    "    def __init__(self, x, y, letra, tipo=TipoCasilla.VALIDO):\n",
    "        self.x = x\n",
    "        self.y = y\n",
    "        self.letra = letra\n",
    "        self.tipo = tipo\n",
    "        self.pared_superior = False\n",
    "        self.pared_inferior = False\n",
    "        self.pared_izquierda = False\n",
    "        self.pared_derecha = False\n",
    "    \n",
    "    def __str__(self):\n",
    "        return f\"Casilla({self.letra}, {self.x}, {self.y})\"\n",
    "    \n",
    "    def configurar_paredes(self, superior=False, inferior=False, izquierda=False, derecha=False):\n",
    "        \"\"\"\n",
    "        Permite modificar las paredes de la casilla directamente.\n",
    "        \"\"\"\n",
    "        self.pared_superior = superior\n",
    "        self.pared_inferior = inferior\n",
    "        self.pared_izquierda = izquierda\n",
    "        self.pared_derecha = derecha\n",
    "\n",
    "    def obtener_adyacentes_validas(self, vecinos):\n",
    "        adyacentes_validas = []\n",
    "        if vecinos.get('arriba') and not self.pared_superior:\n",
    "            adyacentes_validas.append(('Norte', vecinos['arriba']))\n",
    "        if vecinos.get('abajo') and not self.pared_inferior:\n",
    "            adyacentes_validas.append(('Sur', vecinos['abajo']))\n",
    "        if vecinos.get('izquierda') and not self.pared_izquierda:\n",
    "            adyacentes_validas.append(('Oeste', vecinos['izquierda']))\n",
    "        if vecinos.get('derecha') and not self.pared_derecha:\n",
    "            adyacentes_validas.append(('Este', vecinos['derecha']))\n",
    "        return adyacentes_validas"
   ]
  },
  {
   "cell_type": "code",
   "execution_count": 78,
   "metadata": {},
   "outputs": [],
   "source": [
    "# Clase para representar el tablero\n",
    "class Tablero:\n",
    "    def __init__(self, ancho=6, alto=4):\n",
    "        self.ancho = ancho      # Número de columnas\n",
    "        self.alto = alto        # Número de filas\n",
    "        self.casillas = []      # Lista de listas de casillas\n",
    "        self._crear_tablero_vacio()\n",
    "    \n",
    "    def _crear_tablero_vacio(self):\n",
    "        \"\"\"\n",
    "        Crea un tablero vacío, inicializado con None.\n",
    "        \"\"\"\n",
    "        self.casillas = [[None for _ in range(self.ancho)] for _ in range(self.alto)]\n",
    "\n",
    "    def agregar_casilla(self, casilla, x, y):\n",
    "        \"\"\"\n",
    "        Agrega una instancia de la clase Casilla en la posición (x, y)\n",
    "        del tablero.\n",
    "        \"\"\"\n",
    "        if 0 <= x < self.ancho and 0 <= y < self.alto:\n",
    "            # Asegúrate de que la casilla sea una instancia de Casilla\n",
    "            if isinstance(casilla, Casilla):\n",
    "                self.casillas[y][x] = casilla\n",
    "            else:\n",
    "                print(\"Error: El objeto proporcionado no es una instancia de Casilla.\")\n",
    "        else:\n",
    "            print(\"Error: Las coordenadas están fuera del rango del tablero.\")\n",
    "\n",
    "    def obtener_casilla(self, x, y):\n",
    "        \"\"\"\n",
    "        Obtener una casilla específica si está dentro del rango.\n",
    "        \"\"\"\n",
    "        if 0 <= x < self.ancho and 0 <= y < self.alto:\n",
    "            return self.casillas[y][x]\n",
    "        return None\n",
    "    \n",
    "    def rellenar_casilla(self, x, y, letra, tipo):\n",
    "        \"\"\"\n",
    "        Rellena una casilla específica con una letra y tipo.\n",
    "        \"\"\"\n",
    "        casilla = self.obtener_casilla(x, y)\n",
    "        if casilla:\n",
    "            casilla.letra = letra\n",
    "            casilla.tipo = tipo\n",
    "\n",
    "    def modificar_pared(self, x, y, superior=False, inferior=False, izquierda=False, derecha=False):\n",
    "        \"\"\"\n",
    "        Modifica las paredes de una casilla específica.\n",
    "        \"\"\"\n",
    "        casilla = self.obtener_casilla(x, y)\n",
    "        if casilla:\n",
    "            casilla.configurar_paredes(superior, inferior, izquierda, derecha)\n",
    "\n",
    "    def crear_tablero_especifico(self, tablero_config):\n",
    "        \"\"\"\n",
    "        Crea el tablero de la imagen a partir de una configuración.\n",
    "        tablero_config es un diccionario de la forma {(x, y): {'letra': 'X', 'tipo': TipoCasilla.VALIDO, 'paredes': {...}}}\n",
    "        \"\"\"\n",
    "        for (x, y), data in tablero_config.items():\n",
    "            letra = data.get('letra', '')\n",
    "            tipo = data.get('tipo', TipoCasilla.VALIDO)\n",
    "            casilla = Casilla(x, y, letra, tipo)\n",
    "            self.agregar_casilla(casilla, x, y)\n",
    "            paredes = data.get('paredes', {})\n",
    "            self.modificar_pared(x, y, **paredes)\n",
    "    \n",
    "\n",
    "    def dibujar_tablero(self):\n",
    "        \"\"\"\n",
    "        Dibuja el tablero en la consola para una fácil visualización.\n",
    "        \"\"\"\n",
    "        print(\"\\n--- Tablero ---\")\n",
    "        for y in range(self.alto):\n",
    "            fila_superior = \"\"\n",
    "            fila_letras = \"\"\n",
    "            for x in range(self.ancho):\n",
    "                casilla = self.obtener_casilla(x, y)\n",
    "                if casilla:\n",
    "                    fila_letras += f\"| {casilla.letra} \"\n",
    "                    # Dibujar pared superior\n",
    "                    if casilla.pared_superior:\n",
    "                        fila_superior += \"+---\"\n",
    "                    else:\n",
    "                        fila_superior += \"+---\"\n",
    "                else:\n",
    "                    fila_letras += \"|   \"\n",
    "                    fila_superior += \"+---\"\n",
    "            \n",
    "            print(fila_superior + \"+\")\n",
    "            print(fila_letras + \"|\")\n",
    "        \n",
    "        # Dibujar la última línea horizontal\n",
    "        ultima_fila = \"\"\n",
    "        for x in range(self.ancho):\n",
    "            ultima_fila += \"+---\"\n",
    "        print(ultima_fila + \"+\")\n",
    "        print(\"---------------\")\n"
   ]
  },
  {
   "cell_type": "code",
   "execution_count": 82,
   "metadata": {},
   "outputs": [],
   "source": [
    "class Agente:\n",
    "    def __init__(self, tablero, casilla_inicial=None):\n",
    "        self.tablero = tablero\n",
    "        if casilla_inicial:\n",
    "            self.casilla_actual = casilla_inicial\n",
    "        else:\n",
    "            self.casilla_actual = self.buscar_casilla_inicio()\n",
    "        self.visitadas = set() # Conjunto para guardar las casillas visitadas\n",
    "\n",
    "    def buscar_casilla_inicio(self):\n",
    "        for y in range(self.tablero.alto):\n",
    "            for x in range(self.tablero.ancho):\n",
    "                casilla = self.tablero.obtener_casilla(x, y)\n",
    "                if casilla and casilla.tipo == TipoCasilla.INICIO:\n",
    "                    return casilla\n",
    "        return None\n",
    "\n",
    "    def obtener_adyacentes_sin_paredes(self, casilla):\n",
    "        x, y = casilla.x, casilla.y\n",
    "        vecinos = {\n",
    "            'arriba': self.tablero.obtener_casilla(x, y - 1),\n",
    "            'abajo': self.tablero.obtener_casilla(x, y + 1),\n",
    "            'izquierda': self.tablero.obtener_casilla(x - 1, y),\n",
    "            'derecha': self.tablero.obtener_casilla(x + 1, y),\n",
    "        }\n",
    "        return casilla.obtener_adyacentes_validas(vecinos)\n",
    "    \n",
    "    def buscar_primero_en_profundidad(self):\n",
    "        \"\"\"\n",
    "        Realiza una búsqueda primero en profundidad desde la casilla de inicio.\n",
    "        Muestra la secuencia de casillas por las que pasa el agente.\n",
    "        \"\"\"\n",
    "        pila = [self.casilla_actual] # Utilizamos una lista como pila (LIFO)\n",
    "        self.visitadas.add(self.casilla_actual)\n",
    "        \n",
    "        recorrido = [self.casilla_actual] # Almacena el recorrido para mostrarlo al final\n",
    "\n",
    "        while pila:\n",
    "            self.casilla_actual = pila.pop()\n",
    "            print(f\"Agente en: {self.casilla_actual.letra}\")\n",
    "\n",
    "            if self.casilla_actual.tipo == TipoCasilla.FINAL:\n",
    "                print(\"¡Objetivo encontrado!\")\n",
    "                print(\"Recorrido completo:\", \" -> \".join([c.letra for c in recorrido]))\n",
    "                return recorrido\n",
    "            \n",
    "            # Obtener vecinos no visitados y ordenarlos alfabéticamente\n",
    "            vecinos = self.obtener_adyacentes_sin_paredes(self.casilla_actual)\n",
    "            vecinos_no_visitados = []\n",
    "            for _, casilla_vecina in vecinos:\n",
    "                if casilla_vecina and casilla_vecina not in self.visitadas:\n",
    "                    vecinos_no_visitados.append(casilla_vecina)\n",
    "            \n",
    "            # Ordenar por el nombre de la letra\n",
    "            vecinos_no_visitados.sort(key=lambda c: c.letra)\n",
    "            \n",
    "            # Poner los vecinos en la pila en orden inverso para que la búsqueda priorice el orden alfabético\n",
    "            for vecino in reversed(vecinos_no_visitados):\n",
    "                pila.append(vecino)\n",
    "                self.visitadas.add(vecino)\n",
    "                recorrido.append(vecino)\n",
    "        \n",
    "        print(\"No se encontró un camino hacia la casilla final.\")\n",
    "        return None"
   ]
  },
  {
   "cell_type": "code",
   "execution_count": 83,
   "metadata": {},
   "outputs": [
    {
     "name": "stdout",
     "output_type": "stream",
     "text": [
      "Iniciando búsqueda primero en profundidad...\n",
      "Agente en: I\n",
      "Agente en: G\n",
      "Agente en: P\n",
      "Agente en: Q\n",
      "Agente en: R\n",
      "Agente en: T\n",
      "Agente en: K\n",
      "Agente en: C\n",
      "Agente en: A\n",
      "Agente en: B\n",
      "Agente en: D\n",
      "Agente en: M\n",
      "Agente en: F\n",
      "¡Objetivo encontrado!\n",
      "Recorrido completo: I -> W -> Q -> G -> P -> R -> T -> K -> M -> C -> A -> B -> D -> N -> F\n",
      "\n",
      "--- Tablero ---\n",
      "+---+---+---+---+---+---+\n",
      "|   |   |   | A | B |   |\n",
      "+---+---+---+---+---+---+\n",
      "|   |   |   | C | D | E |\n",
      "+---+---+---+---+---+---+\n",
      "| G | I | W | K | M | N |\n",
      "+---+---+---+---+---+---+\n",
      "| P | Q | R | T | F |   |\n",
      "+---+---+---+---+---+---+\n",
      "---------------\n"
     ]
    }
   ],
   "source": [
    "# Definición del tablero de la imagen\n",
    "# Las coordenadas son (columna, fila)\n",
    "# Origen (0,0) en la esquina superior izquierda\n",
    "configuracion_tablero_imagen = {\n",
    "    # Fila 0\n",
    "    (3, 0): {'letra': 'A', 'tipo': TipoCasilla.VALIDO},\n",
    "    (4, 0): {'letra': 'B', 'tipo': TipoCasilla.VALIDO},\n",
    "\n",
    "    # Fila 1\n",
    "    (3, 1): {'letra': 'C', 'tipo': TipoCasilla.VALIDO, 'paredes': {'derecha': True}},\n",
    "    (4, 1): {'letra': 'D', 'tipo': TipoCasilla.VALIDO, 'paredes': {'izquierda': True, 'derecha': True}},\n",
    "    (5, 1): {'letra': 'E', 'tipo': TipoCasilla.VALIDO, 'paredes': {'izquierda': True}},\n",
    "\n",
    "    # Fila 2\n",
    "    (0, 2): {'letra': 'G', 'tipo': TipoCasilla.VALIDO},\n",
    "    (1, 2): {'letra': 'I', 'tipo': TipoCasilla.INICIO},\n",
    "    (2, 2): {'letra': 'W', 'tipo': TipoCasilla.VALIDO, 'paredes': {'inferior': True}},\n",
    "    (3, 2): {'letra': 'K', 'tipo': TipoCasilla.VALIDO},\n",
    "    (4, 2): {'letra': 'M', 'tipo': TipoCasilla.VALIDO},\n",
    "    (5, 2): {'letra': 'N', 'tipo': TipoCasilla.VALIDO},\n",
    "\n",
    "    # Fila 3\n",
    "    (0, 3): {'letra': 'P', 'tipo': TipoCasilla.VALIDO},\n",
    "    (1, 3): {'letra': 'Q', 'tipo': TipoCasilla.VALIDO},\n",
    "    (2, 3): {'letra': 'R', 'tipo': TipoCasilla.VALIDO, 'paredes': {'superior': True}},\n",
    "    (3, 3): {'letra': 'T', 'tipo': TipoCasilla.VALIDO, 'paredes': {'derecha': True}},\n",
    "    (4, 3): {'letra': 'F', 'tipo': TipoCasilla.FINAL, 'paredes': {'izquierda': True}}\n",
    "}\n",
    "\n",
    "# Creación e inicialización del tablero\n",
    "mi_tablero = Tablero(ancho=6, alto=4)\n",
    "mi_tablero.crear_tablero_especifico(configuracion_tablero_imagen)\n",
    "\n",
    "agente_dfs = Agente(mi_tablero)\n",
    "\n",
    "print(\"Iniciando búsqueda primero en profundidad...\")\n",
    "agente_dfs.buscar_primero_en_profundidad()\n",
    "\n",
    "# Muestra el tablero para verificar la creación\n",
    "mi_tablero.dibujar_tablero()"
   ]
  },
  {
   "cell_type": "markdown",
   "metadata": {},
   "source": [
    "6. Desarrolle un agente que emplee una estrategia de búsqueda A* para ir de una casilla a otra evitando la pared representada, pudiendo seleccionar ustedes mismos el inicio y el final. Muestre en una imagen el camino obtenido."
   ]
  },
  {
   "cell_type": "code",
   "execution_count": 54,
   "metadata": {},
   "outputs": [
    {
     "data": {
      "image/png": "[encoded data removed]",
      "text/plain": [
       "<Figure size 640x480 with 1 Axes>"
      ]
     },
     "metadata": {},
     "output_type": "display_data"
    }
   ],
   "source": [
    "url = \"https://drive.google.com/uc?export=view&id=1fD2Ws5oqFU9_RTj-yX9BIvslXJiqcLCZ\"\n",
    "response = requests.get(url)\n",
    "img = Image.open(BytesIO(response.content))\n",
    "plt.imshow(img)\n",
    "plt.axis('off')\n",
    "plt.show()"
   ]
  },
  {
   "cell_type": "code",
   "execution_count": null,
   "metadata": {},
   "outputs": [],
   "source": [
    "import numpy as np\n",
    "import matplotlib.pyplot as plt\n",
    "from matplotlib.colors import ListedColormap\n",
    "\n",
    "# 1. Representación del laberinto como una matriz de 30x30\n",
    "# 0 = camino, 1 = pared\n",
    "maze = np.zeros((30, 30), dtype=int)\n",
    "\n",
    "# Coordenadas de la pared ajustadas a la matriz 30x30\n",
    "# La pared se ha movido a la columna 18\n",
    "wall_coords = [\n",
    "    (10, 18), (10, 19),\n",
    "    (11, 18), (12, 18), (13, 18), (14, 18), (15, 18),\n",
    "    (16, 18), (17, 18), (18, 18), (19, 18), (20, 18),\n",
    "    (20, 19), (20, 20), (20, 21)\n",
    "]\n",
    "for r, c in wall_coords:\n",
    "    maze[r, c] = 1\n",
    "\n",
    "# 2. Entrada de usuario para las coordenadas\n",
    "print(\"Por favor, ingrese las coordenadas (fila, columna) para el inicio y el fin.\")\n",
    "print(\"Las coordenadas deben estar entre 0 y 29.\")\n",
    "try:\n",
    "    start_row = int(input(\"Fila de inicio: \"))\n",
    "    start_col = int(input(\"Columna de inicio: \"))\n",
    "    end_row = int(input(\"Fila de fin: \"))\n",
    "    end_col = int(input(\"Columna de fin: \"))\n",
    "    \n",
    "    start = (start_row, start_col)\n",
    "    end = (end_row, end_col)\n",
    "\n",
    "    # Verificación de coordenadas\n",
    "    if not (0 <= start[0] < 30 and 0 <= start[1] < 30 and 0 <= end[0] < 30 and 0 <= end[1] < 30):\n",
    "        print(\"Error: Las coordenadas deben estar en el rango de 0 a 29.\")\n",
    "    elif maze[start[0]][start[1]] == 1 or maze[end[0]][end[1]] == 1:\n",
    "        print(\"Error: No puedes iniciar o terminar dentro de una pared.\")\n",
    "    else:\n",
    "        # 3. Clase Node y el Algoritmo A* (sin cambios)\n",
    "        class Node:\n",
    "            def __init__(self, parent=None, position=None):\n",
    "                self.parent = parent\n",
    "                self.position = position\n",
    "                self.g = 0\n",
    "                self.h = 0\n",
    "                self.f = 0\n",
    "\n",
    "            def __eq__(self, other):\n",
    "                return self.position == other.position\n",
    "\n",
    "        def a_star_search(maze, start, end):\n",
    "            start_node = Node(None, start)\n",
    "            end_node = Node(None, end)\n",
    "            open_list = []\n",
    "            closed_list = []\n",
    "            open_list.append(start_node)\n",
    "\n",
    "            while open_list:\n",
    "                current_node = min(open_list, key=lambda node: node.f)\n",
    "                open_list.remove(current_node)\n",
    "                closed_list.append(current_node)\n",
    "\n",
    "                if current_node == end_node:\n",
    "                    path = []\n",
    "                    current = current_node\n",
    "                    while current is not None:\n",
    "                        path.append(current.position)\n",
    "                        current = current.parent\n",
    "                    return path[::-1]\n",
    "\n",
    "                children = []\n",
    "                for new_position in [(0, -1), (0, 1), (-1, 0), (1, 0)]:\n",
    "                    node_position = (current_node.position[0] + new_position[0], current_node.position[1] + new_position[1])\n",
    "\n",
    "                    if (node_position[0] > (len(maze) - 1) or node_position[0] < 0 or\n",
    "                        node_position[1] > (len(maze[0]) - 1) or node_position[1] < 0):\n",
    "                        continue\n",
    "                    if maze[node_position[0]][node_position[1]] == 1:\n",
    "                        continue\n",
    "\n",
    "                    new_node = Node(current_node, node_position)\n",
    "                    children.append(new_node)\n",
    "\n",
    "                for child in children:\n",
    "                    if child in closed_list:\n",
    "                        continue\n",
    "                    child.g = current_node.g + 1\n",
    "                    child.h = abs(child.position[0] - end_node.position[0]) + abs(child.position[1] - end_node.position[1])\n",
    "                    child.f = child.g + child.h\n",
    "                    \n",
    "                    if any(open_node.position == child.position and child.g >= open_node.g for open_node in open_list):\n",
    "                        continue\n",
    "\n",
    "                    open_list.append(child)\n",
    "            return None\n",
    "\n",
    "        # 4. Ejecución y Visualización\n",
    "        path = a_star_search(maze, start, end)\n",
    "\n",
    "        if path:\n",
    "            print(\"Camino encontrado:\", path)\n",
    "            path_map = np.array(maze, dtype=float)\n",
    "            for row, col in path:\n",
    "                path_map[row, col] = 0.5\n",
    "            \n",
    "            cmap = ListedColormap(['white', 'black', 'green'])\n",
    "            plt.imshow(path_map, cmap=cmap)\n",
    "            \n",
    "            plt.scatter(start[1], start[0], c='blue', marker='s', s=100, label='Inicio')\n",
    "            plt.scatter(end[1], end[0], c='yellow', marker='s', s=100, label='Fin')\n",
    "            \n",
    "            plt.title('Búsqueda A* en un Tablero Más Grande')\n",
    "            plt.legend()\n",
    "            plt.grid(True, which='both', color='gray', linestyle='-', linewidth=0.5)\n",
    "            plt.show()\n",
    "        else:\n",
    "            print(\"No se encontró un camino.\")\n",
    "\n",
    "except ValueError:\n",
    "    print(\"Entrada inválida. Por favor, ingrese solo números enteros.\")\n",
    "\n"
   ]
  },
  {
   "cell_type": "markdown",
   "metadata": {},
   "source": [
    "![Laberinto del Ejericio 6 para un caso en el que esquiva la pared](laberinto.png)"
   ]
  },
  {
   "attachments": {},
   "cell_type": "markdown",
   "metadata": {
    "id": "q2aeBGG9Ybnh"
   },
   "source": [
    "# Bibliografía\n",
    "\n",
    "[Russell, S. & Norvig, P. (2004) _Inteligencia Artificial: Un Enfoque Moderno_. Pearson Educación S.A. (2a Ed.) Madrid, España](https://www.academia.edu/8241613/Inteligencia_Aritificial_Un_Enfoque_Moderno_2da_Edici%C3%B3n_Stuart_J_Russell_y_Peter_Norvig)\n",
    "\n",
    "[Poole, D. & Mackworth, A. (2023) _Artificial Intelligence: Foundations of Computational Agents_. Cambridge University Press (3a Ed.) Vancouver, Canada](https://artint.info/3e/html/ArtInt3e.html)"
   ]
  }
 ],
 "metadata": {
  "colab": {
   "authorship_tag": "ABX9TyN2cl/po/jsIijyv9hzEMxZ",
   "provenance": []
  },
  "kernelspec": {
   "display_name": "langton_venv",
   "language": "python",
   "name": "python3"
  },
  "language_info": {
   "codemirror_mode": {
    "name": "ipython",
    "version": 3
   },
   "file_extension": ".py",
   "mimetype": "text/x-python",
   "name": "python",
   "nbconvert_exporter": "python",
   "pygments_lexer": "ipython3",
   "version": "3.12.3"
  }
 },
 "nbformat": 4,
 "nbformat_minor": 0
}
